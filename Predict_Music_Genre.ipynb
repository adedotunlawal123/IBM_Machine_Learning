{
 "cells": [
  {
   "cell_type": "code",
   "execution_count": 1,
   "metadata": {
    "dc": {
     "key": "3"
    },
    "tags": [
     "sample_code"
    ]
   },
   "outputs": [
    {
     "name": "stdout",
     "output_type": "stream",
     "text": [
      "   track_id  bit_rate  comments        composer         date_created  \\\n",
      "0       135    256000         1             NaN  2008-11-26 01:43:26   \n",
      "1       136    256000         1             NaN  2008-11-26 01:43:35   \n",
      "2       151    192000         0             NaN  2008-11-26 01:44:55   \n",
      "3       152    192000         0             NaN  2008-11-26 01:44:58   \n",
      "4       153    256000         0  Arc and Sender  2008-11-26 01:45:00   \n",
      "\n",
      "         date_recorded  duration  favorites genre_top    genres  ...  \\\n",
      "0  2008-11-26 00:00:00       837          0      Rock  [45, 58]  ...   \n",
      "1  2008-11-26 00:00:00       509          0      Rock  [45, 58]  ...   \n",
      "2                  NaN       192          0      Rock      [25]  ...   \n",
      "3                  NaN       193          0      Rock      [25]  ...   \n",
      "4  2008-11-26 00:00:00       405          5      Rock      [26]  ...   \n",
      "\n",
      "  information interest  language_code  \\\n",
      "0         NaN     2484             en   \n",
      "1         NaN     1948             en   \n",
      "2         NaN      701             en   \n",
      "3         NaN      637             en   \n",
      "4         NaN      354             en   \n",
      "\n",
      "                                             license listens  lyricist number  \\\n",
      "0  Attribution-NonCommercial-ShareAlike 3.0 Inter...    1832       NaN      0   \n",
      "1  Attribution-NonCommercial-ShareAlike 3.0 Inter...    1498       NaN      0   \n",
      "2  Attribution-NonCommercial-ShareAlike 3.0 Inter...     148       NaN      4   \n",
      "3  Attribution-NonCommercial-ShareAlike 3.0 Inter...      98       NaN     11   \n",
      "4  Attribution-NonCommercial-NoDerivatives (aka M...     424       NaN      2   \n",
      "\n",
      "   publisher tags                       title  \n",
      "0        NaN   []                Father's Day  \n",
      "1        NaN   []  Peel Back The Mountain Sky  \n",
      "2        NaN   []                 Untitled 04  \n",
      "3        NaN   []                 Untitled 11  \n",
      "4        NaN   []          Hundred-Year Flood  \n",
      "\n",
      "[5 rows x 21 columns]\n",
      "____________________________________________\n",
      "   track_id  acousticness  danceability    energy  instrumentalness  liveness  \\\n",
      "0         2      0.416675      0.675894  0.634476          0.010628  0.177647   \n",
      "1         3      0.374408      0.528643  0.817461          0.001851  0.105880   \n",
      "2         5      0.043567      0.745566  0.701470          0.000697  0.373143   \n",
      "3        10      0.951670      0.658179  0.924525          0.965427  0.115474   \n",
      "4       134      0.452217      0.513238  0.560410          0.019443  0.096567   \n",
      "\n",
      "   speechiness    tempo   valence  \n",
      "0     0.159310  165.922  0.576661  \n",
      "1     0.461818  126.957  0.269240  \n",
      "2     0.124595  100.260  0.621661  \n",
      "3     0.032985  111.562  0.963590  \n",
      "4     0.525519  114.290  0.894072  \n"
     ]
    }
   ],
   "source": [
    "import pandas as pd\n",
    "\n",
    "# Read in data\n",
    "r_h_tracks = pd.read_csv('datasets/fma-rock-vs-hiphop.csv')\n",
    "print(r_h_tracks.head())\n",
    "print('____________________________________________')\n",
    "# Read in tracks information\n",
    "tracks_info = pd.read_json('datasets/echonest-metrics.json', precise_float = True)\n",
    "print(tracks_info.head())\n",
    "# Merge the relevant columns\n",
    "r_h_tracks_info = tracks_info.merge(r_h_tracks[['track_id','genre_top']], on = 'track_id')"
   ]
  },
  {
   "cell_type": "code",
   "execution_count": 2,
   "metadata": {},
   "outputs": [
    {
     "data": {
      "text/html": [
       "<style type=\"text/css\">\n",
       "#T_b7e2f_row0_col0, #T_b7e2f_row1_col1, #T_b7e2f_row2_col2, #T_b7e2f_row3_col3, #T_b7e2f_row4_col4, #T_b7e2f_row5_col5, #T_b7e2f_row6_col6, #T_b7e2f_row7_col7, #T_b7e2f_row8_col8 {\n",
       "  background-color: #023858;\n",
       "  color: #f1f1f1;\n",
       "}\n",
       "#T_b7e2f_row0_col1, #T_b7e2f_row1_col0, #T_b7e2f_row1_col3, #T_b7e2f_row2_col5, #T_b7e2f_row2_col7, #T_b7e2f_row4_col2, #T_b7e2f_row4_col6, #T_b7e2f_row4_col8, #T_b7e2f_row6_col4 {\n",
       "  background-color: #fff7fb;\n",
       "  color: #000000;\n",
       "}\n",
       "#T_b7e2f_row0_col2 {\n",
       "  background-color: #d2d2e7;\n",
       "  color: #000000;\n",
       "}\n",
       "#T_b7e2f_row0_col3 {\n",
       "  background-color: #b5c4df;\n",
       "  color: #000000;\n",
       "}\n",
       "#T_b7e2f_row0_col4 {\n",
       "  background-color: #f5eef6;\n",
       "  color: #000000;\n",
       "}\n",
       "#T_b7e2f_row0_col5 {\n",
       "  background-color: #e9e5f1;\n",
       "  color: #000000;\n",
       "}\n",
       "#T_b7e2f_row0_col6, #T_b7e2f_row8_col3 {\n",
       "  background-color: #d1d2e6;\n",
       "  color: #000000;\n",
       "}\n",
       "#T_b7e2f_row0_col7, #T_b7e2f_row1_col7 {\n",
       "  background-color: #e1dfed;\n",
       "  color: #000000;\n",
       "}\n",
       "#T_b7e2f_row0_col8, #T_b7e2f_row3_col6 {\n",
       "  background-color: #dedcec;\n",
       "  color: #000000;\n",
       "}\n",
       "#T_b7e2f_row1_col2 {\n",
       "  background-color: #e0dded;\n",
       "  color: #000000;\n",
       "}\n",
       "#T_b7e2f_row1_col4, #T_b7e2f_row4_col1 {\n",
       "  background-color: #97b7d7;\n",
       "  color: #000000;\n",
       "}\n",
       "#T_b7e2f_row1_col5, #T_b7e2f_row2_col4 {\n",
       "  background-color: #f3edf5;\n",
       "  color: #000000;\n",
       "}\n",
       "#T_b7e2f_row1_col6, #T_b7e2f_row6_col1 {\n",
       "  background-color: #b8c6e0;\n",
       "  color: #000000;\n",
       "}\n",
       "#T_b7e2f_row1_col8 {\n",
       "  background-color: #e2dfee;\n",
       "  color: #000000;\n",
       "}\n",
       "#T_b7e2f_row2_col0, #T_b7e2f_row5_col0, #T_b7e2f_row5_col3 {\n",
       "  background-color: #bdc8e1;\n",
       "  color: #000000;\n",
       "}\n",
       "#T_b7e2f_row2_col1, #T_b7e2f_row6_col0, #T_b7e2f_row7_col0, #T_b7e2f_row7_col1 {\n",
       "  background-color: #d0d1e6;\n",
       "  color: #000000;\n",
       "}\n",
       "#T_b7e2f_row2_col3 {\n",
       "  background-color: #fbf3f9;\n",
       "  color: #000000;\n",
       "}\n",
       "#T_b7e2f_row2_col6 {\n",
       "  background-color: #80aed2;\n",
       "  color: #f1f1f1;\n",
       "}\n",
       "#T_b7e2f_row2_col8 {\n",
       "  background-color: #529bc7;\n",
       "  color: #f1f1f1;\n",
       "}\n",
       "#T_b7e2f_row3_col0, #T_b7e2f_row7_col3 {\n",
       "  background-color: #a7bddb;\n",
       "  color: #000000;\n",
       "}\n",
       "#T_b7e2f_row3_col1 {\n",
       "  background-color: #f5eff6;\n",
       "  color: #000000;\n",
       "}\n",
       "#T_b7e2f_row3_col2, #T_b7e2f_row7_col2 {\n",
       "  background-color: #fef6fa;\n",
       "  color: #000000;\n",
       "}\n",
       "#T_b7e2f_row3_col4 {\n",
       "  background-color: #c4cbe3;\n",
       "  color: #000000;\n",
       "}\n",
       "#T_b7e2f_row3_col5, #T_b7e2f_row5_col7 {\n",
       "  background-color: #dcdaeb;\n",
       "  color: #000000;\n",
       "}\n",
       "#T_b7e2f_row3_col7 {\n",
       "  background-color: #adc1dd;\n",
       "  color: #000000;\n",
       "}\n",
       "#T_b7e2f_row3_col8, #T_b7e2f_row4_col7 {\n",
       "  background-color: #d9d8ea;\n",
       "  color: #000000;\n",
       "}\n",
       "#T_b7e2f_row4_col0 {\n",
       "  background-color: #f4eef6;\n",
       "  color: #000000;\n",
       "}\n",
       "#T_b7e2f_row4_col3 {\n",
       "  background-color: #d2d3e7;\n",
       "  color: #000000;\n",
       "}\n",
       "#T_b7e2f_row4_col5 {\n",
       "  background-color: #fdf5fa;\n",
       "  color: #000000;\n",
       "}\n",
       "#T_b7e2f_row5_col1 {\n",
       "  background-color: #ced0e6;\n",
       "  color: #000000;\n",
       "}\n",
       "#T_b7e2f_row5_col2 {\n",
       "  background-color: #ede8f3;\n",
       "  color: #000000;\n",
       "}\n",
       "#T_b7e2f_row5_col4, #T_b7e2f_row6_col7 {\n",
       "  background-color: #dbdaeb;\n",
       "  color: #000000;\n",
       "}\n",
       "#T_b7e2f_row5_col6 {\n",
       "  background-color: #c0c9e2;\n",
       "  color: #000000;\n",
       "}\n",
       "#T_b7e2f_row5_col8 {\n",
       "  background-color: #e8e4f0;\n",
       "  color: #000000;\n",
       "}\n",
       "#T_b7e2f_row6_col2 {\n",
       "  background-color: #93b5d6;\n",
       "  color: #000000;\n",
       "}\n",
       "#T_b7e2f_row6_col3, #T_b7e2f_row6_col5 {\n",
       "  background-color: #eae6f1;\n",
       "  color: #000000;\n",
       "}\n",
       "#T_b7e2f_row6_col8 {\n",
       "  background-color: #bfc9e1;\n",
       "  color: #000000;\n",
       "}\n",
       "#T_b7e2f_row7_col4 {\n",
       "  background-color: #c5cce3;\n",
       "  color: #000000;\n",
       "}\n",
       "#T_b7e2f_row7_col5 {\n",
       "  background-color: #f0eaf4;\n",
       "  color: #000000;\n",
       "}\n",
       "#T_b7e2f_row7_col6 {\n",
       "  background-color: #c8cde4;\n",
       "  color: #000000;\n",
       "}\n",
       "#T_b7e2f_row7_col8 {\n",
       "  background-color: #d6d6e9;\n",
       "  color: #000000;\n",
       "}\n",
       "#T_b7e2f_row8_col0 {\n",
       "  background-color: #c6cce3;\n",
       "  color: #000000;\n",
       "}\n",
       "#T_b7e2f_row8_col1 {\n",
       "  background-color: #cdd0e5;\n",
       "  color: #000000;\n",
       "}\n",
       "#T_b7e2f_row8_col2 {\n",
       "  background-color: #4c99c5;\n",
       "  color: #f1f1f1;\n",
       "}\n",
       "#T_b7e2f_row8_col4 {\n",
       "  background-color: #efe9f3;\n",
       "  color: #000000;\n",
       "}\n",
       "#T_b7e2f_row8_col5 {\n",
       "  background-color: #f7f0f7;\n",
       "  color: #000000;\n",
       "}\n",
       "#T_b7e2f_row8_col6 {\n",
       "  background-color: #a5bddb;\n",
       "  color: #000000;\n",
       "}\n",
       "#T_b7e2f_row8_col7 {\n",
       "  background-color: #d3d4e7;\n",
       "  color: #000000;\n",
       "}\n",
       "</style>\n",
       "<table id=\"T_b7e2f_\">\n",
       "  <thead>\n",
       "    <tr>\n",
       "      <th class=\"blank level0\" >&nbsp;</th>\n",
       "      <th class=\"col_heading level0 col0\" >track_id</th>\n",
       "      <th class=\"col_heading level0 col1\" >acousticness</th>\n",
       "      <th class=\"col_heading level0 col2\" >danceability</th>\n",
       "      <th class=\"col_heading level0 col3\" >energy</th>\n",
       "      <th class=\"col_heading level0 col4\" >instrumentalness</th>\n",
       "      <th class=\"col_heading level0 col5\" >liveness</th>\n",
       "      <th class=\"col_heading level0 col6\" >speechiness</th>\n",
       "      <th class=\"col_heading level0 col7\" >tempo</th>\n",
       "      <th class=\"col_heading level0 col8\" >valence</th>\n",
       "    </tr>\n",
       "  </thead>\n",
       "  <tbody>\n",
       "    <tr>\n",
       "      <th id=\"T_b7e2f_level0_row0\" class=\"row_heading level0 row0\" >track_id</th>\n",
       "      <td id=\"T_b7e2f_row0_col0\" class=\"data row0 col0\" >1.000000</td>\n",
       "      <td id=\"T_b7e2f_row0_col1\" class=\"data row0 col1\" >-0.372282</td>\n",
       "      <td id=\"T_b7e2f_row0_col2\" class=\"data row0 col2\" >0.049454</td>\n",
       "      <td id=\"T_b7e2f_row0_col3\" class=\"data row0 col3\" >0.140703</td>\n",
       "      <td id=\"T_b7e2f_row0_col4\" class=\"data row0 col4\" >-0.275623</td>\n",
       "      <td id=\"T_b7e2f_row0_col5\" class=\"data row0 col5\" >0.048231</td>\n",
       "      <td id=\"T_b7e2f_row0_col6\" class=\"data row0 col6\" >-0.026995</td>\n",
       "      <td id=\"T_b7e2f_row0_col7\" class=\"data row0 col7\" >-0.025392</td>\n",
       "      <td id=\"T_b7e2f_row0_col8\" class=\"data row0 col8\" >0.010070</td>\n",
       "    </tr>\n",
       "    <tr>\n",
       "      <th id=\"T_b7e2f_level0_row1\" class=\"row_heading level0 row1\" >acousticness</th>\n",
       "      <td id=\"T_b7e2f_row1_col0\" class=\"data row1 col0\" >-0.372282</td>\n",
       "      <td id=\"T_b7e2f_row1_col1\" class=\"data row1 col1\" >1.000000</td>\n",
       "      <td id=\"T_b7e2f_row1_col2\" class=\"data row1 col2\" >-0.028954</td>\n",
       "      <td id=\"T_b7e2f_row1_col3\" class=\"data row1 col3\" >-0.281619</td>\n",
       "      <td id=\"T_b7e2f_row1_col4\" class=\"data row1 col4\" >0.194780</td>\n",
       "      <td id=\"T_b7e2f_row1_col5\" class=\"data row1 col5\" >-0.019991</td>\n",
       "      <td id=\"T_b7e2f_row1_col6\" class=\"data row1 col6\" >0.072204</td>\n",
       "      <td id=\"T_b7e2f_row1_col7\" class=\"data row1 col7\" >-0.026310</td>\n",
       "      <td id=\"T_b7e2f_row1_col8\" class=\"data row1 col8\" >-0.013841</td>\n",
       "    </tr>\n",
       "    <tr>\n",
       "      <th id=\"T_b7e2f_level0_row2\" class=\"row_heading level0 row2\" >danceability</th>\n",
       "      <td id=\"T_b7e2f_row2_col0\" class=\"data row2 col0\" >0.049454</td>\n",
       "      <td id=\"T_b7e2f_row2_col1\" class=\"data row2 col1\" >-0.028954</td>\n",
       "      <td id=\"T_b7e2f_row2_col2\" class=\"data row2 col2\" >1.000000</td>\n",
       "      <td id=\"T_b7e2f_row2_col3\" class=\"data row2 col3\" >-0.242032</td>\n",
       "      <td id=\"T_b7e2f_row2_col4\" class=\"data row2 col4\" >-0.255217</td>\n",
       "      <td id=\"T_b7e2f_row2_col5\" class=\"data row2 col5\" >-0.106584</td>\n",
       "      <td id=\"T_b7e2f_row2_col6\" class=\"data row2 col6\" >0.276206</td>\n",
       "      <td id=\"T_b7e2f_row2_col7\" class=\"data row2 col7\" >-0.242089</td>\n",
       "      <td id=\"T_b7e2f_row2_col8\" class=\"data row2 col8\" >0.473165</td>\n",
       "    </tr>\n",
       "    <tr>\n",
       "      <th id=\"T_b7e2f_level0_row3\" class=\"row_heading level0 row3\" >energy</th>\n",
       "      <td id=\"T_b7e2f_row3_col0\" class=\"data row3 col0\" >0.140703</td>\n",
       "      <td id=\"T_b7e2f_row3_col1\" class=\"data row3 col1\" >-0.281619</td>\n",
       "      <td id=\"T_b7e2f_row3_col2\" class=\"data row3 col2\" >-0.242032</td>\n",
       "      <td id=\"T_b7e2f_row3_col3\" class=\"data row3 col3\" >1.000000</td>\n",
       "      <td id=\"T_b7e2f_row3_col4\" class=\"data row3 col4\" >0.028238</td>\n",
       "      <td id=\"T_b7e2f_row3_col5\" class=\"data row3 col5\" >0.113331</td>\n",
       "      <td id=\"T_b7e2f_row3_col6\" class=\"data row3 col6\" >-0.109983</td>\n",
       "      <td id=\"T_b7e2f_row3_col7\" class=\"data row3 col7\" >0.195227</td>\n",
       "      <td id=\"T_b7e2f_row3_col8\" class=\"data row3 col8\" >0.038603</td>\n",
       "    </tr>\n",
       "    <tr>\n",
       "      <th id=\"T_b7e2f_level0_row4\" class=\"row_heading level0 row4\" >instrumentalness</th>\n",
       "      <td id=\"T_b7e2f_row4_col0\" class=\"data row4 col0\" >-0.275623</td>\n",
       "      <td id=\"T_b7e2f_row4_col1\" class=\"data row4 col1\" >0.194780</td>\n",
       "      <td id=\"T_b7e2f_row4_col2\" class=\"data row4 col2\" >-0.255217</td>\n",
       "      <td id=\"T_b7e2f_row4_col3\" class=\"data row4 col3\" >0.028238</td>\n",
       "      <td id=\"T_b7e2f_row4_col4\" class=\"data row4 col4\" >1.000000</td>\n",
       "      <td id=\"T_b7e2f_row4_col5\" class=\"data row4 col5\" >-0.091022</td>\n",
       "      <td id=\"T_b7e2f_row4_col6\" class=\"data row4 col6\" >-0.366762</td>\n",
       "      <td id=\"T_b7e2f_row4_col7\" class=\"data row4 col7\" >0.022215</td>\n",
       "      <td id=\"T_b7e2f_row4_col8\" class=\"data row4 col8\" >-0.219967</td>\n",
       "    </tr>\n",
       "    <tr>\n",
       "      <th id=\"T_b7e2f_level0_row5\" class=\"row_heading level0 row5\" >liveness</th>\n",
       "      <td id=\"T_b7e2f_row5_col0\" class=\"data row5 col0\" >0.048231</td>\n",
       "      <td id=\"T_b7e2f_row5_col1\" class=\"data row5 col1\" >-0.019991</td>\n",
       "      <td id=\"T_b7e2f_row5_col2\" class=\"data row5 col2\" >-0.106584</td>\n",
       "      <td id=\"T_b7e2f_row5_col3\" class=\"data row5 col3\" >0.113331</td>\n",
       "      <td id=\"T_b7e2f_row5_col4\" class=\"data row5 col4\" >-0.091022</td>\n",
       "      <td id=\"T_b7e2f_row5_col5\" class=\"data row5 col5\" >1.000000</td>\n",
       "      <td id=\"T_b7e2f_row5_col6\" class=\"data row5 col6\" >0.041173</td>\n",
       "      <td id=\"T_b7e2f_row5_col7\" class=\"data row5 col7\" >0.002732</td>\n",
       "      <td id=\"T_b7e2f_row5_col8\" class=\"data row5 col8\" >-0.045093</td>\n",
       "    </tr>\n",
       "    <tr>\n",
       "      <th id=\"T_b7e2f_level0_row6\" class=\"row_heading level0 row6\" >speechiness</th>\n",
       "      <td id=\"T_b7e2f_row6_col0\" class=\"data row6 col0\" >-0.026995</td>\n",
       "      <td id=\"T_b7e2f_row6_col1\" class=\"data row6 col1\" >0.072204</td>\n",
       "      <td id=\"T_b7e2f_row6_col2\" class=\"data row6 col2\" >0.276206</td>\n",
       "      <td id=\"T_b7e2f_row6_col3\" class=\"data row6 col3\" >-0.109983</td>\n",
       "      <td id=\"T_b7e2f_row6_col4\" class=\"data row6 col4\" >-0.366762</td>\n",
       "      <td id=\"T_b7e2f_row6_col5\" class=\"data row6 col5\" >0.041173</td>\n",
       "      <td id=\"T_b7e2f_row6_col6\" class=\"data row6 col6\" >1.000000</td>\n",
       "      <td id=\"T_b7e2f_row6_col7\" class=\"data row6 col7\" >0.008241</td>\n",
       "      <td id=\"T_b7e2f_row6_col8\" class=\"data row6 col8\" >0.149894</td>\n",
       "    </tr>\n",
       "    <tr>\n",
       "      <th id=\"T_b7e2f_level0_row7\" class=\"row_heading level0 row7\" >tempo</th>\n",
       "      <td id=\"T_b7e2f_row7_col0\" class=\"data row7 col0\" >-0.025392</td>\n",
       "      <td id=\"T_b7e2f_row7_col1\" class=\"data row7 col1\" >-0.026310</td>\n",
       "      <td id=\"T_b7e2f_row7_col2\" class=\"data row7 col2\" >-0.242089</td>\n",
       "      <td id=\"T_b7e2f_row7_col3\" class=\"data row7 col3\" >0.195227</td>\n",
       "      <td id=\"T_b7e2f_row7_col4\" class=\"data row7 col4\" >0.022215</td>\n",
       "      <td id=\"T_b7e2f_row7_col5\" class=\"data row7 col5\" >0.002732</td>\n",
       "      <td id=\"T_b7e2f_row7_col6\" class=\"data row7 col6\" >0.008241</td>\n",
       "      <td id=\"T_b7e2f_row7_col7\" class=\"data row7 col7\" >1.000000</td>\n",
       "      <td id=\"T_b7e2f_row7_col8\" class=\"data row7 col8\" >0.052221</td>\n",
       "    </tr>\n",
       "    <tr>\n",
       "      <th id=\"T_b7e2f_level0_row8\" class=\"row_heading level0 row8\" >valence</th>\n",
       "      <td id=\"T_b7e2f_row8_col0\" class=\"data row8 col0\" >0.010070</td>\n",
       "      <td id=\"T_b7e2f_row8_col1\" class=\"data row8 col1\" >-0.013841</td>\n",
       "      <td id=\"T_b7e2f_row8_col2\" class=\"data row8 col2\" >0.473165</td>\n",
       "      <td id=\"T_b7e2f_row8_col3\" class=\"data row8 col3\" >0.038603</td>\n",
       "      <td id=\"T_b7e2f_row8_col4\" class=\"data row8 col4\" >-0.219967</td>\n",
       "      <td id=\"T_b7e2f_row8_col5\" class=\"data row8 col5\" >-0.045093</td>\n",
       "      <td id=\"T_b7e2f_row8_col6\" class=\"data row8 col6\" >0.149894</td>\n",
       "      <td id=\"T_b7e2f_row8_col7\" class=\"data row8 col7\" >0.052221</td>\n",
       "      <td id=\"T_b7e2f_row8_col8\" class=\"data row8 col8\" >1.000000</td>\n",
       "    </tr>\n",
       "  </tbody>\n",
       "</table>\n"
      ],
      "text/plain": [
       "<pandas.io.formats.style.Styler at 0x7ffbd5440e80>"
      ]
     },
     "execution_count": 2,
     "metadata": {},
     "output_type": "execute_result"
    }
   ],
   "source": [
    "# Create a correlation matrix to check for features with high correlation. This helps reduce feature redundancy\n",
    "corrltn = r_h_tracks_info.corr()\n",
    "corrltn.style.background_gradient()"
   ]
  },
  {
   "cell_type": "code",
   "execution_count": null,
   "metadata": {},
   "outputs": [],
   "source": [
    "#No high correlation between features from the above correlation matrix. Hence we are good to go!"
   ]
  },
  {
   "cell_type": "code",
   "execution_count": 3,
   "metadata": {
    "dc": {
     "key": "17"
    },
    "tags": [
     "sample_code"
    ]
   },
   "outputs": [],
   "source": [
    "#Split to Train Test\n",
    "\n",
    "# Import train_test_split function and Decision tree classifier\n",
    "from sklearn.model_selection import train_test_split\n",
    "\n",
    "# Create features\n",
    "features = r_h_tracks_info.drop(['genre_top', 'track_id'], axis=1).values\n",
    "\n",
    "# Create labels\n",
    "labels = r_h_tracks_info['genre_top'].values\n",
    "\n",
    "# Split our data\n",
    "train_features, test_features, train_labels, test_labels = train_test_split(features, labels, random_state = 10)"
   ]
  },
  {
   "cell_type": "code",
   "execution_count": 4,
   "metadata": {
    "dc": {
     "key": "24"
    },
    "tags": [
     "sample_code"
    ]
   },
   "outputs": [],
   "source": [
    "#Preprocess data\n",
    "\n",
    "# Import the StandardScaler\n",
    "from sklearn.preprocessing import StandardScaler\n",
    "\n",
    "# Scale the features and set the values to a new variable\n",
    "scaler = StandardScaler()\n",
    "\n",
    "\n",
    "# Scale train_features and test_features\n",
    "scaled_train_features = scaler.fit_transform(train_features)\n",
    "scaled_test_features = scaler.transform(test_features)"
   ]
  },
  {
   "cell_type": "code",
   "execution_count": null,
   "metadata": {},
   "outputs": [],
   "source": [
    "%matplotlib inline #Inline plots"
   ]
  },
  {
   "cell_type": "code",
   "execution_count": 5,
   "metadata": {
    "dc": {
     "key": "31"
    },
    "tags": [
     "sample_code"
    ]
   },
   "outputs": [
    {
     "data": {
      "text/plain": [
       "Text(0.5, 0, 'Principal Component')"
      ]
     },
     "execution_count": 5,
     "metadata": {},
     "output_type": "execute_result"
    },
    {
     "data": {
      "image/png": "[encoded data removed]",
      "text/plain": [
       "<Figure size 432x288 with 1 Axes>"
      ]
     },
     "metadata": {
      "needs_background": "light"
     },
     "output_type": "display_data"
    }
   ],
   "source": [
    "# Import matplotlib, and PCA\n",
    "import matplotlib.pyplot as plt\n",
    "from sklearn.decomposition import PCA\n",
    "\n",
    "# Get explained variance ratios from PCA using all features\n",
    "pca = PCA()\n",
    "pca.fit(scaled_train_features)\n",
    "exp_variance = pca.explained_variance_ratio_\n",
    "\n",
    "# plot the explained variance\n",
    "fig, ax = plt.subplots()\n",
    "ax.plot(range(pca.n_components_), exp_variance)\n",
    "ax.set_ylabel('Variance')\n",
    "ax.set_xlabel('Principal Component')"
   ]
  },
  {
   "cell_type": "code",
   "execution_count": 6,
   "metadata": {
    "dc": {
     "key": "38"
    },
    "tags": [
     "sample_code"
    ]
   },
   "outputs": [
    {
     "data": {
      "text/plain": [
       "Text(0.5, 0, 'Principal Component')"
      ]
     },
     "execution_count": 6,
     "metadata": {},
     "output_type": "execute_result"
    },
    {
     "data": {
      "image/png": "[encoded data removed]",
      "text/plain": [
       "<Figure size 432x288 with 1 Axes>"
      ]
     },
     "metadata": {
      "needs_background": "light"
     },
     "output_type": "display_data"
    }
   ],
   "source": [
    "# Import numpy\n",
    "import numpy as np\n",
    "\n",
    "# Get cumulative explained variance\n",
    "cum_exp_variance = np.cumsum(exp_variance)\n",
    "\n",
    "# Plot the cumulative explained variance using the 85% thumb rule\n",
    "fig, ax = plt.subplots()\n",
    "ax.plot(cum_exp_variance)\n",
    "ax.axhline(y=0.85, linestyle='--')\n",
    "ax.set_ylabel('Cummulative Variance')\n",
    "ax.set_xlabel('Principal Component')"
   ]
  },
  {
   "cell_type": "code",
   "execution_count": null,
   "metadata": {},
   "outputs": [],
   "source": [
    "#From the above 85% variance requires about 6 principal components (NB: 0 indexed counting)"
   ]
  },
  {
   "cell_type": "code",
   "execution_count": 7,
   "metadata": {
    "dc": {
     "key": "45"
    },
    "tags": [
     "sample_code"
    ]
   },
   "outputs": [],
   "source": [
    "# Perform PCA with the 6 components\n",
    "pca = PCA(n_components = 6, random_state = 10)\n",
    "\n",
    "# Fit and transform scaled training features using pca\n",
    "train_rdcd_pca = pca.fit_transform(scaled_train_features)\n",
    "\n",
    "# Fit and transform scaled test features using pca\n",
    "test_rdcd_pca = pca.fit_transform(scaled_test_features)"
   ]
  },
  {
   "cell_type": "code",
   "execution_count": 8,
   "metadata": {
    "dc": {
     "key": "52"
    },
    "tags": [
     "sample_code"
    ]
   },
   "outputs": [],
   "source": [
    "# Import Decision tree classifier\n",
    "from sklearn.tree import DecisionTreeClassifier\n",
    "\n",
    "# Instantiate decision tree\n",
    "tree = DecisionTreeClassifier(random_state=10)\n",
    "\n",
    "# Train the decision tree\n",
    "tree.fit(train_rdcd_pca, train_labels)\n",
    "\n",
    "# Predict labels using test data\n",
    "pred_labels_tree = tree.predict(test_rdcd_pca)"
   ]
  },
  {
   "cell_type": "code",
   "execution_count": 9,
   "metadata": {
    "dc": {
     "key": "59"
    },
    "tags": [
     "sample_code"
    ]
   },
   "outputs": [
    {
     "name": "stdout",
     "output_type": "stream",
     "text": [
      "Decision Tree: \n",
      "               precision    recall  f1-score   support\n",
      "\n",
      "     Hip-Hop       0.52      0.59      0.55       235\n",
      "        Rock       0.90      0.87      0.88       966\n",
      "\n",
      "    accuracy                           0.81      1201\n",
      "   macro avg       0.71      0.73      0.72      1201\n",
      "weighted avg       0.82      0.81      0.82      1201\n",
      "\n",
      "Logistic Regression: \n",
      "               precision    recall  f1-score   support\n",
      "\n",
      "     Hip-Hop       0.75      0.55      0.63       235\n",
      "        Rock       0.90      0.96      0.93       966\n",
      "\n",
      "    accuracy                           0.88      1201\n",
      "   macro avg       0.82      0.75      0.78      1201\n",
      "weighted avg       0.87      0.88      0.87      1201\n",
      "\n"
     ]
    }
   ],
   "source": [
    "# Import LogisticRegression\n",
    "from sklearn.linear_model import LogisticRegression\n",
    "\n",
    "# Instantiate Logistic regression\n",
    "logreg = LogisticRegression(random_state = 10)\n",
    "\n",
    "# Train logreg\n",
    "logreg.fit(train_rdcd_pca, train_labels)\n",
    "\n",
    "# Predict labels using test data\n",
    "pred_labels_logreg = logreg.predict(test_rdcd_pca)\n",
    "\n",
    "# Create classification report for the tree and logreg\n",
    "from sklearn.metrics import classification_report\n",
    "clsfctn_rprt_tree = classification_report(test_labels, pred_labels_tree)\n",
    "clsfctn_rprt_logreg = classification_report(test_labels, pred_labels_logreg)\n",
    "\n",
    "print(\"Decision Tree: \\n\", clsfctn_rprt_tree)\n",
    "print(\"Logistic Regression: \\n\", clsfctn_rprt_logreg)"
   ]
  },
  {
   "cell_type": "code",
   "execution_count": null,
   "metadata": {},
   "outputs": [],
   "source": [
    "#From the above we need to balance our data"
   ]
  },
  {
   "cell_type": "code",
   "execution_count": 10,
   "metadata": {
    "dc": {
     "key": "66"
    },
    "tags": [
     "sample_code"
    ]
   },
   "outputs": [],
   "source": [
    "# Subset only hip-hop, and rock tracks\n",
    "# Subset a balanced proportion of data points\n",
    "hiphop = r_h_tracks_info.loc[r_h_tracks_info['genre_top'] == 'Hip-Hop']\n",
    "rock = r_h_tracks_info.loc[r_h_tracks_info['genre_top'] == 'Rock']\n",
    "\n",
    "# choose same sample of rock as hiphop\n",
    "rock = rock.sample(hiphop.shape[0], random_state=10)\n",
    "\n",
    "# concatenate hiphop and rock dataframes\n",
    "blncd_rock_hip = pd.concat([rock, hiphop])\n",
    "\n",
    "# New features from balanced dataframe\n",
    "features_b = blncd_rock_hip.drop(['genre_top', 'track_id'], axis=1) \n",
    "\n",
    "# New labels from balanced dataframe\n",
    "labels_b = blncd_rock_hip['genre_top']\n",
    "\n",
    "# New train-test set from balanced data\n",
    "train_features_b, test_features_b, train_labels_b, test_labels_b = train_test_split(\n",
    "    features_b, labels_b, random_state=10)\n",
    "\n",
    "# Scale new train, and test_features\n",
    "scaled_train_features_b = scaler.fit_transform(train_features_b)\n",
    "scaled_test_features_b = scaler.transform(test_features_b)\n",
    "\n",
    "#Perform PCA on balanced data\n",
    "train_rdcd_pca_b = pca.fit_transform(scaled_train_features_b)\n",
    "test_rdcd_pca_b = pca.transform(scaled_test_features_b)"
   ]
  },
  {
   "cell_type": "code",
   "execution_count": 11,
   "metadata": {},
   "outputs": [
    {
     "data": {
      "text/plain": [
       "(1820, 10)"
      ]
     },
     "execution_count": 11,
     "metadata": {},
     "output_type": "execute_result"
    }
   ],
   "source": [
    "blncd_rock_hip.shape"
   ]
  },
  {
   "cell_type": "code",
   "execution_count": 12,
   "metadata": {
    "dc": {
     "key": "73"
    },
    "tags": [
     "sample_code"
    ]
   },
   "outputs": [
    {
     "name": "stdout",
     "output_type": "stream",
     "text": [
      "Decision Tree: \n",
      "               precision    recall  f1-score   support\n",
      "\n",
      "     Hip-Hop       0.82      0.77      0.79       230\n",
      "        Rock       0.78      0.82      0.80       225\n",
      "\n",
      "    accuracy                           0.80       455\n",
      "   macro avg       0.80      0.80      0.80       455\n",
      "weighted avg       0.80      0.80      0.80       455\n",
      "\n",
      "Logistic Regression: \n",
      "               precision    recall  f1-score   support\n",
      "\n",
      "     Hip-Hop       0.84      0.80      0.82       230\n",
      "        Rock       0.81      0.85      0.83       225\n",
      "\n",
      "    accuracy                           0.82       455\n",
      "   macro avg       0.82      0.82      0.82       455\n",
      "weighted avg       0.83      0.82      0.82       455\n",
      "\n"
     ]
    }
   ],
   "source": [
    "# Instantiate new decision tree\n",
    "tree_b = DecisionTreeClassifier(random_state=10)\n",
    "\n",
    "# Train decision tree on the balanced data\n",
    "tree_b.fit(train_rdcd_pca_b, train_labels_b)\n",
    "\n",
    "# Predict labels using test data\n",
    "pred_labels_tree_b = tree_b.predict(test_rdcd_pca_b)\n",
    "\n",
    "# Instantiate new Logistic regression\n",
    "logreg_b = LogisticRegression(random_state=10)\n",
    "\n",
    "# Train logistic regression on the balanced data\n",
    "logreg_b.fit(train_rdcd_pca_b, train_labels_b)\n",
    "\n",
    "# Predict labels using test data\n",
    "pred_labels_logreg_b = logreg_b.predict(test_rdcd_pca_b)\n",
    "\n",
    "# compare the new models above\n",
    "print(\"Decision Tree: \\n\", classification_report(test_labels_b, pred_labels_tree_b))\n",
    "print(\"Logistic Regression: \\n\", classification_report(test_labels_b, pred_labels_logreg_b))"
   ]
  },
  {
   "cell_type": "code",
   "execution_count": null,
   "metadata": {},
   "outputs": [],
   "source": [
    "# For better output we can use Cross Validation!"
   ]
  },
  {
   "cell_type": "code",
   "execution_count": 13,
   "metadata": {
    "dc": {
     "key": "80"
    },
    "tags": [
     "sample_code"
    ]
   },
   "outputs": [
    {
     "name": "stdout",
     "output_type": "stream",
     "text": [
      "Decision Tree: 0.7582417582417582 Logistic Regression: 0.782967032967033\n"
     ]
    }
   ],
   "source": [
    "# Using K-fold cross-validation\n",
    "\n",
    "#Import Kfold, and cross_val_score\n",
    "from sklearn.model_selection import KFold, cross_val_score\n",
    "from sklearn.pipeline import Pipeline\n",
    "tree_pipeline_b = Pipeline([(\"scaler_b_cv\", StandardScaler()), (\"pca_b_cv\", PCA(n_components=6)), \n",
    "                      (\"tree_b_cv\", DecisionTreeClassifier(random_state=10))])\n",
    "logreg_pipeline_b = Pipeline([(\"scaler_b_cv\", StandardScaler()), (\"pca_b_cv\", PCA(n_components=6)), \n",
    "                        (\"logreg_b_cv\", LogisticRegression(random_state=10))])\n",
    "\n",
    "# Use K-fold cross-validation\n",
    "kf_cv = KFold(10)\n",
    "\n",
    "#Get scores for the models uisng cross validation\n",
    "tree_b_cv_scores = cross_val_score(tree_pipeline_b, features_b, labels_b, cv=kf_cv)\n",
    "logreg_b_cv_scores = cross_val_score(logreg_pipeline_b, features_b, labels_b, cv=kf_cv)\n",
    "\n",
    "# Find the mean score\n",
    "print(\"Decision Tree:\", np.mean(tree_b_cv_scores), \"Logistic Regression:\", np.mean(logreg_b_cv_scores))"
   ]
  },
  {
   "cell_type": "code",
   "execution_count": null,
   "metadata": {},
   "outputs": [],
   "source": [
    "#Logistic Regression is a better model to use!"
   ]
  }
 ],
 "metadata": {
  "kernelspec": {
   "display_name": "Python 3",
   "language": "python",
   "name": "python3"
  },
  "language_info": {
   "codemirror_mode": {
    "name": "ipython",
    "version": 3
   },
   "file_extension": ".py",
   "mimetype": "text/x-python",
   "name": "python",
   "nbconvert_exporter": "python",
   "pygments_lexer": "ipython3",
   "version": "3.8.8"
  }
 },
 "nbformat": 4,
 "nbformat_minor": 2
}
